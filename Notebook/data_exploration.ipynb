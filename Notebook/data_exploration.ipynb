{
  "nbformat": 4,
  "nbformat_minor": 0,
  "metadata": {
    "colab": {
      "provenance": [],
      "toc_visible": true
    },
    "kernelspec": {
      "name": "python3",
      "display_name": "Python 3"
    },
    "language_info": {
      "name": "python"
    }
  },
  "cells": [
    {
      "cell_type": "code",
      "execution_count": 1,
      "metadata": {
        "colab": {
          "base_uri": "https://localhost:8080/"
        },
        "id": "hZetCDbnart8",
        "outputId": "33d9b5ad-648e-4c01-8008-a102c2b28dc6"
      },
      "outputs": [
        {
          "output_type": "stream",
          "name": "stdout",
          "text": [
            "Mounted at /content/drive\n"
          ]
        }
      ],
      "source": [
        "from google.colab import drive\n",
        "drive.mount('/content/drive')"
      ]
    },
    {
      "cell_type": "code",
      "source": [
        "cd /content/drive/MyDrive"
      ],
      "metadata": {
        "colab": {
          "base_uri": "https://localhost:8080/"
        },
        "id": "WmDm6Liwax4N",
        "outputId": "8fa30103-4488-4be3-c3a2-4d6d35228b57"
      },
      "execution_count": 2,
      "outputs": [
        {
          "output_type": "stream",
          "name": "stdout",
          "text": [
            "/content/drive/MyDrive\n"
          ]
        }
      ]
    },
    {
      "cell_type": "code",
      "source": [
        "#Step 1: Load the Data\n",
        "import pandas as pd\n",
        "import matplotlib.pyplot as plt\n",
        "\n",
        "# Upload CSV manually in Colab or specify path\n",
        "df = pd.read_csv(\"jobs.csv\")\n",
        "print(\"Data loaded with shape:\", df.shape)"
      ],
      "metadata": {
        "colab": {
          "base_uri": "https://localhost:8080/"
        },
        "id": "R1V_NGuua_ZD",
        "outputId": "828ef4f3-402a-42d1-f99c-6fcc06472dfa"
      },
      "execution_count": 3,
      "outputs": [
        {
          "output_type": "stream",
          "name": "stdout",
          "text": [
            "Data loaded with shape: (100000, 17)\n"
          ]
        }
      ]
    },
    {
      "cell_type": "code",
      "source": [
        "#  Step 2: Preview the Data\n",
        "df.head()"
      ],
      "metadata": {
        "colab": {
          "base_uri": "https://localhost:8080/",
          "height": 556
        },
        "id": "ktjHnSpCbDfo",
        "outputId": "31f685a6-3dee-4c04-dd4a-a630578c0e14"
      },
      "execution_count": 4,
      "outputs": [
        {
          "output_type": "execute_result",
          "data": {
            "text/plain": [
              "                                      jobTitle        companyName  \\\n",
              "0  Nuclear Medicine Tech, Full Time, Day Shift   Adventist Health   \n",
              "1          Radiation Therapist - SIGN-ON BONUS  SkinCure Oncology   \n",
              "2            Delivery Driver - Earn Extra Cash           DoorDash   \n",
              "3                                    Paramedic                AMR   \n",
              "4        Sales Lead - White House Black Market            Chico's   \n",
              "\n",
              "                                lid  \\\n",
              "0  07213bcc5db0efec311b1884459defed   \n",
              "1  53994c1a47063a39ed3bf5509c0d6676   \n",
              "2  22ea5183b183b0ba1999b465cddc0364   \n",
              "3  9255fae6f210f0ca9fdda3c32b99fc1e   \n",
              "4  362836240b3a6ad18c342d840f569622   \n",
              "\n",
              "                                          jobDescRaw finalZipcode finalState  \\\n",
              "0  <div class=\"normalText\"><p>Job Description</p>...        93465        CA,   \n",
              "1  <div class=\"normalText\"><p>Seeking Radiation T...        47802        IN,   \n",
              "2  <div class=\"-desktop-no-padding-top\" id=\"job-d...        46403         IN   \n",
              "3  <div class=\"-desktop-no-padding-top\" id=\"job-d...        11791         NY   \n",
              "4  <div class=\"normalText\"><p>Join our fashion-ob...        49315        MI,   \n",
              "\n",
              "      finalCity                            companyBranchName  \\\n",
              "0     Templeton     Adventist Health || Templeton, CA, 93465   \n",
              "1   Terre Haute  SkinCure Oncology || Terre Haute, IN, 47802   \n",
              "2        Hobart                       DoorDash || Hobart, IN   \n",
              "3     Bay Shore                         AMR || Bay Shore, NY   \n",
              "4  Byron Center           Chico's || Byron Center, MI, 49315   \n",
              "\n",
              "                                          jobDescUrl  \\\n",
              "0  https://www.postjobfree.com/job/vubjwa/nuclear...   \n",
              "1  https://www.postjobfree.com/job/vt9qzu/radiati...   \n",
              "2  https://us.jora.com/job/Delivery-Driver-36f004...   \n",
              "3  https://us.jora.com/job/Paramedic-30a825beca41...   \n",
              "4  https://www.postjobfree.com/job/vt7qu7/sales-l...   \n",
              "\n",
              "                                         nlpBenefits  \\\n",
              "0                                                 []   \n",
              "1  ['Vision Insurance', 'Life Insurance', 'Health...   \n",
              "2                                                 []   \n",
              "3                                                 []   \n",
              "4                                                 []   \n",
              "\n",
              "                                           nlpSkills  \\\n",
              "0  ['Nuclear Medicine', 'Wound Care', 'Digestive ...   \n",
              "1  ['Radiation Therapy', 'Hair Loss', 'Radiation ...   \n",
              "2                                                 []   \n",
              "3     ['Medical Equipment', 'Ambulances', 'Agility']   \n",
              "4  ['Appraisals', 'Cash Receipts', 'Product Knowl...   \n",
              "\n",
              "                                       nlpSoftSkills  \\\n",
              "0                              ['Computer Literacy']   \n",
              "1                               ['Customer Service']   \n",
              "2                                                 []   \n",
              "3                                     ['Management']   \n",
              "4  ['Sales', 'Problem Solving', 'Organizational S...   \n",
              "\n",
              "                  nlpDegreeLevel nlpEmployment      nlpSeniority  \\\n",
              "0                 ['Associates']     Full-time       Entry level   \n",
              "1     ['Masters', 'Certificate']     Full-time       Entry level   \n",
              "2                             []     Full-time       Entry level   \n",
              "3                ['High School']     Full-time       Entry level   \n",
              "4  ['Associates', 'High School']     Full-time  Mid-Senior level   \n",
              "\n",
              "           correctDate          scrapedLocation  \n",
              "0  2025-01-06 00:00:00     Templeton, CA, 93465  \n",
              "1  2025-01-06 00:00:00   Terre Haute, IN, 47802  \n",
              "2  2025-01-06 15:08:54               Hobart, IN  \n",
              "3  2025-01-06 06:32:50            Bay Shore, NY  \n",
              "4  2025-01-05 00:00:00  Byron Center, MI, 49315  "
            ],
            "text/html": [
              "\n",
              "  <div id=\"df-17e6ff54-af61-4d78-b5e3-30411ee74d39\" class=\"colab-df-container\">\n",
              "    <div>\n",
              "<style scoped>\n",
              "    .dataframe tbody tr th:only-of-type {\n",
              "        vertical-align: middle;\n",
              "    }\n",
              "\n",
              "    .dataframe tbody tr th {\n",
              "        vertical-align: top;\n",
              "    }\n",
              "\n",
              "    .dataframe thead th {\n",
              "        text-align: right;\n",
              "    }\n",
              "</style>\n",
              "<table border=\"1\" class=\"dataframe\">\n",
              "  <thead>\n",
              "    <tr style=\"text-align: right;\">\n",
              "      <th></th>\n",
              "      <th>jobTitle</th>\n",
              "      <th>companyName</th>\n",
              "      <th>lid</th>\n",
              "      <th>jobDescRaw</th>\n",
              "      <th>finalZipcode</th>\n",
              "      <th>finalState</th>\n",
              "      <th>finalCity</th>\n",
              "      <th>companyBranchName</th>\n",
              "      <th>jobDescUrl</th>\n",
              "      <th>nlpBenefits</th>\n",
              "      <th>nlpSkills</th>\n",
              "      <th>nlpSoftSkills</th>\n",
              "      <th>nlpDegreeLevel</th>\n",
              "      <th>nlpEmployment</th>\n",
              "      <th>nlpSeniority</th>\n",
              "      <th>correctDate</th>\n",
              "      <th>scrapedLocation</th>\n",
              "    </tr>\n",
              "  </thead>\n",
              "  <tbody>\n",
              "    <tr>\n",
              "      <th>0</th>\n",
              "      <td>Nuclear Medicine Tech, Full Time, Day Shift</td>\n",
              "      <td>Adventist Health</td>\n",
              "      <td>07213bcc5db0efec311b1884459defed</td>\n",
              "      <td>&lt;div class=\"normalText\"&gt;&lt;p&gt;Job Description&lt;/p&gt;...</td>\n",
              "      <td>93465</td>\n",
              "      <td>CA,</td>\n",
              "      <td>Templeton</td>\n",
              "      <td>Adventist Health || Templeton, CA, 93465</td>\n",
              "      <td>https://www.postjobfree.com/job/vubjwa/nuclear...</td>\n",
              "      <td>[]</td>\n",
              "      <td>['Nuclear Medicine', 'Wound Care', 'Digestive ...</td>\n",
              "      <td>['Computer Literacy']</td>\n",
              "      <td>['Associates']</td>\n",
              "      <td>Full-time</td>\n",
              "      <td>Entry level</td>\n",
              "      <td>2025-01-06 00:00:00</td>\n",
              "      <td>Templeton, CA, 93465</td>\n",
              "    </tr>\n",
              "    <tr>\n",
              "      <th>1</th>\n",
              "      <td>Radiation Therapist - SIGN-ON BONUS</td>\n",
              "      <td>SkinCure Oncology</td>\n",
              "      <td>53994c1a47063a39ed3bf5509c0d6676</td>\n",
              "      <td>&lt;div class=\"normalText\"&gt;&lt;p&gt;Seeking Radiation T...</td>\n",
              "      <td>47802</td>\n",
              "      <td>IN,</td>\n",
              "      <td>Terre Haute</td>\n",
              "      <td>SkinCure Oncology || Terre Haute, IN, 47802</td>\n",
              "      <td>https://www.postjobfree.com/job/vt9qzu/radiati...</td>\n",
              "      <td>['Vision Insurance', 'Life Insurance', 'Health...</td>\n",
              "      <td>['Radiation Therapy', 'Hair Loss', 'Radiation ...</td>\n",
              "      <td>['Customer Service']</td>\n",
              "      <td>['Masters', 'Certificate']</td>\n",
              "      <td>Full-time</td>\n",
              "      <td>Entry level</td>\n",
              "      <td>2025-01-06 00:00:00</td>\n",
              "      <td>Terre Haute, IN, 47802</td>\n",
              "    </tr>\n",
              "    <tr>\n",
              "      <th>2</th>\n",
              "      <td>Delivery Driver - Earn Extra Cash</td>\n",
              "      <td>DoorDash</td>\n",
              "      <td>22ea5183b183b0ba1999b465cddc0364</td>\n",
              "      <td>&lt;div class=\"-desktop-no-padding-top\" id=\"job-d...</td>\n",
              "      <td>46403</td>\n",
              "      <td>IN</td>\n",
              "      <td>Hobart</td>\n",
              "      <td>DoorDash || Hobart, IN</td>\n",
              "      <td>https://us.jora.com/job/Delivery-Driver-36f004...</td>\n",
              "      <td>[]</td>\n",
              "      <td>[]</td>\n",
              "      <td>[]</td>\n",
              "      <td>[]</td>\n",
              "      <td>Full-time</td>\n",
              "      <td>Entry level</td>\n",
              "      <td>2025-01-06 15:08:54</td>\n",
              "      <td>Hobart, IN</td>\n",
              "    </tr>\n",
              "    <tr>\n",
              "      <th>3</th>\n",
              "      <td>Paramedic</td>\n",
              "      <td>AMR</td>\n",
              "      <td>9255fae6f210f0ca9fdda3c32b99fc1e</td>\n",
              "      <td>&lt;div class=\"-desktop-no-padding-top\" id=\"job-d...</td>\n",
              "      <td>11791</td>\n",
              "      <td>NY</td>\n",
              "      <td>Bay Shore</td>\n",
              "      <td>AMR || Bay Shore, NY</td>\n",
              "      <td>https://us.jora.com/job/Paramedic-30a825beca41...</td>\n",
              "      <td>[]</td>\n",
              "      <td>['Medical Equipment', 'Ambulances', 'Agility']</td>\n",
              "      <td>['Management']</td>\n",
              "      <td>['High School']</td>\n",
              "      <td>Full-time</td>\n",
              "      <td>Entry level</td>\n",
              "      <td>2025-01-06 06:32:50</td>\n",
              "      <td>Bay Shore, NY</td>\n",
              "    </tr>\n",
              "    <tr>\n",
              "      <th>4</th>\n",
              "      <td>Sales Lead - White House Black Market</td>\n",
              "      <td>Chico's</td>\n",
              "      <td>362836240b3a6ad18c342d840f569622</td>\n",
              "      <td>&lt;div class=\"normalText\"&gt;&lt;p&gt;Join our fashion-ob...</td>\n",
              "      <td>49315</td>\n",
              "      <td>MI,</td>\n",
              "      <td>Byron Center</td>\n",
              "      <td>Chico's || Byron Center, MI, 49315</td>\n",
              "      <td>https://www.postjobfree.com/job/vt7qu7/sales-l...</td>\n",
              "      <td>[]</td>\n",
              "      <td>['Appraisals', 'Cash Receipts', 'Product Knowl...</td>\n",
              "      <td>['Sales', 'Problem Solving', 'Organizational S...</td>\n",
              "      <td>['Associates', 'High School']</td>\n",
              "      <td>Full-time</td>\n",
              "      <td>Mid-Senior level</td>\n",
              "      <td>2025-01-05 00:00:00</td>\n",
              "      <td>Byron Center, MI, 49315</td>\n",
              "    </tr>\n",
              "  </tbody>\n",
              "</table>\n",
              "</div>\n",
              "    <div class=\"colab-df-buttons\">\n",
              "\n",
              "  <div class=\"colab-df-container\">\n",
              "    <button class=\"colab-df-convert\" onclick=\"convertToInteractive('df-17e6ff54-af61-4d78-b5e3-30411ee74d39')\"\n",
              "            title=\"Convert this dataframe to an interactive table.\"\n",
              "            style=\"display:none;\">\n",
              "\n",
              "  <svg xmlns=\"http://www.w3.org/2000/svg\" height=\"24px\" viewBox=\"0 -960 960 960\">\n",
              "    <path d=\"M120-120v-720h720v720H120Zm60-500h600v-160H180v160Zm220 220h160v-160H400v160Zm0 220h160v-160H400v160ZM180-400h160v-160H180v160Zm440 0h160v-160H620v160ZM180-180h160v-160H180v160Zm440 0h160v-160H620v160Z\"/>\n",
              "  </svg>\n",
              "    </button>\n",
              "\n",
              "  <style>\n",
              "    .colab-df-container {\n",
              "      display:flex;\n",
              "      gap: 12px;\n",
              "    }\n",
              "\n",
              "    .colab-df-convert {\n",
              "      background-color: #E8F0FE;\n",
              "      border: none;\n",
              "      border-radius: 50%;\n",
              "      cursor: pointer;\n",
              "      display: none;\n",
              "      fill: #1967D2;\n",
              "      height: 32px;\n",
              "      padding: 0 0 0 0;\n",
              "      width: 32px;\n",
              "    }\n",
              "\n",
              "    .colab-df-convert:hover {\n",
              "      background-color: #E2EBFA;\n",
              "      box-shadow: 0px 1px 2px rgba(60, 64, 67, 0.3), 0px 1px 3px 1px rgba(60, 64, 67, 0.15);\n",
              "      fill: #174EA6;\n",
              "    }\n",
              "\n",
              "    .colab-df-buttons div {\n",
              "      margin-bottom: 4px;\n",
              "    }\n",
              "\n",
              "    [theme=dark] .colab-df-convert {\n",
              "      background-color: #3B4455;\n",
              "      fill: #D2E3FC;\n",
              "    }\n",
              "\n",
              "    [theme=dark] .colab-df-convert:hover {\n",
              "      background-color: #434B5C;\n",
              "      box-shadow: 0px 1px 3px 1px rgba(0, 0, 0, 0.15);\n",
              "      filter: drop-shadow(0px 1px 2px rgba(0, 0, 0, 0.3));\n",
              "      fill: #FFFFFF;\n",
              "    }\n",
              "  </style>\n",
              "\n",
              "    <script>\n",
              "      const buttonEl =\n",
              "        document.querySelector('#df-17e6ff54-af61-4d78-b5e3-30411ee74d39 button.colab-df-convert');\n",
              "      buttonEl.style.display =\n",
              "        google.colab.kernel.accessAllowed ? 'block' : 'none';\n",
              "\n",
              "      async function convertToInteractive(key) {\n",
              "        const element = document.querySelector('#df-17e6ff54-af61-4d78-b5e3-30411ee74d39');\n",
              "        const dataTable =\n",
              "          await google.colab.kernel.invokeFunction('convertToInteractive',\n",
              "                                                    [key], {});\n",
              "        if (!dataTable) return;\n",
              "\n",
              "        const docLinkHtml = 'Like what you see? Visit the ' +\n",
              "          '<a target=\"_blank\" href=https://colab.research.google.com/notebooks/data_table.ipynb>data table notebook</a>'\n",
              "          + ' to learn more about interactive tables.';\n",
              "        element.innerHTML = '';\n",
              "        dataTable['output_type'] = 'display_data';\n",
              "        await google.colab.output.renderOutput(dataTable, element);\n",
              "        const docLink = document.createElement('div');\n",
              "        docLink.innerHTML = docLinkHtml;\n",
              "        element.appendChild(docLink);\n",
              "      }\n",
              "    </script>\n",
              "  </div>\n",
              "\n",
              "\n",
              "<div id=\"df-7cc0c8ff-cd4a-465f-83b9-bbb6c98ff047\">\n",
              "  <button class=\"colab-df-quickchart\" onclick=\"quickchart('df-7cc0c8ff-cd4a-465f-83b9-bbb6c98ff047')\"\n",
              "            title=\"Suggest charts\"\n",
              "            style=\"display:none;\">\n",
              "\n",
              "<svg xmlns=\"http://www.w3.org/2000/svg\" height=\"24px\"viewBox=\"0 0 24 24\"\n",
              "     width=\"24px\">\n",
              "    <g>\n",
              "        <path d=\"M19 3H5c-1.1 0-2 .9-2 2v14c0 1.1.9 2 2 2h14c1.1 0 2-.9 2-2V5c0-1.1-.9-2-2-2zM9 17H7v-7h2v7zm4 0h-2V7h2v10zm4 0h-2v-4h2v4z\"/>\n",
              "    </g>\n",
              "</svg>\n",
              "  </button>\n",
              "\n",
              "<style>\n",
              "  .colab-df-quickchart {\n",
              "      --bg-color: #E8F0FE;\n",
              "      --fill-color: #1967D2;\n",
              "      --hover-bg-color: #E2EBFA;\n",
              "      --hover-fill-color: #174EA6;\n",
              "      --disabled-fill-color: #AAA;\n",
              "      --disabled-bg-color: #DDD;\n",
              "  }\n",
              "\n",
              "  [theme=dark] .colab-df-quickchart {\n",
              "      --bg-color: #3B4455;\n",
              "      --fill-color: #D2E3FC;\n",
              "      --hover-bg-color: #434B5C;\n",
              "      --hover-fill-color: #FFFFFF;\n",
              "      --disabled-bg-color: #3B4455;\n",
              "      --disabled-fill-color: #666;\n",
              "  }\n",
              "\n",
              "  .colab-df-quickchart {\n",
              "    background-color: var(--bg-color);\n",
              "    border: none;\n",
              "    border-radius: 50%;\n",
              "    cursor: pointer;\n",
              "    display: none;\n",
              "    fill: var(--fill-color);\n",
              "    height: 32px;\n",
              "    padding: 0;\n",
              "    width: 32px;\n",
              "  }\n",
              "\n",
              "  .colab-df-quickchart:hover {\n",
              "    background-color: var(--hover-bg-color);\n",
              "    box-shadow: 0 1px 2px rgba(60, 64, 67, 0.3), 0 1px 3px 1px rgba(60, 64, 67, 0.15);\n",
              "    fill: var(--button-hover-fill-color);\n",
              "  }\n",
              "\n",
              "  .colab-df-quickchart-complete:disabled,\n",
              "  .colab-df-quickchart-complete:disabled:hover {\n",
              "    background-color: var(--disabled-bg-color);\n",
              "    fill: var(--disabled-fill-color);\n",
              "    box-shadow: none;\n",
              "  }\n",
              "\n",
              "  .colab-df-spinner {\n",
              "    border: 2px solid var(--fill-color);\n",
              "    border-color: transparent;\n",
              "    border-bottom-color: var(--fill-color);\n",
              "    animation:\n",
              "      spin 1s steps(1) infinite;\n",
              "  }\n",
              "\n",
              "  @keyframes spin {\n",
              "    0% {\n",
              "      border-color: transparent;\n",
              "      border-bottom-color: var(--fill-color);\n",
              "      border-left-color: var(--fill-color);\n",
              "    }\n",
              "    20% {\n",
              "      border-color: transparent;\n",
              "      border-left-color: var(--fill-color);\n",
              "      border-top-color: var(--fill-color);\n",
              "    }\n",
              "    30% {\n",
              "      border-color: transparent;\n",
              "      border-left-color: var(--fill-color);\n",
              "      border-top-color: var(--fill-color);\n",
              "      border-right-color: var(--fill-color);\n",
              "    }\n",
              "    40% {\n",
              "      border-color: transparent;\n",
              "      border-right-color: var(--fill-color);\n",
              "      border-top-color: var(--fill-color);\n",
              "    }\n",
              "    60% {\n",
              "      border-color: transparent;\n",
              "      border-right-color: var(--fill-color);\n",
              "    }\n",
              "    80% {\n",
              "      border-color: transparent;\n",
              "      border-right-color: var(--fill-color);\n",
              "      border-bottom-color: var(--fill-color);\n",
              "    }\n",
              "    90% {\n",
              "      border-color: transparent;\n",
              "      border-bottom-color: var(--fill-color);\n",
              "    }\n",
              "  }\n",
              "</style>\n",
              "\n",
              "  <script>\n",
              "    async function quickchart(key) {\n",
              "      const quickchartButtonEl =\n",
              "        document.querySelector('#' + key + ' button');\n",
              "      quickchartButtonEl.disabled = true;  // To prevent multiple clicks.\n",
              "      quickchartButtonEl.classList.add('colab-df-spinner');\n",
              "      try {\n",
              "        const charts = await google.colab.kernel.invokeFunction(\n",
              "            'suggestCharts', [key], {});\n",
              "      } catch (error) {\n",
              "        console.error('Error during call to suggestCharts:', error);\n",
              "      }\n",
              "      quickchartButtonEl.classList.remove('colab-df-spinner');\n",
              "      quickchartButtonEl.classList.add('colab-df-quickchart-complete');\n",
              "    }\n",
              "    (() => {\n",
              "      let quickchartButtonEl =\n",
              "        document.querySelector('#df-7cc0c8ff-cd4a-465f-83b9-bbb6c98ff047 button');\n",
              "      quickchartButtonEl.style.display =\n",
              "        google.colab.kernel.accessAllowed ? 'block' : 'none';\n",
              "    })();\n",
              "  </script>\n",
              "</div>\n",
              "\n",
              "    </div>\n",
              "  </div>\n"
            ],
            "application/vnd.google.colaboratory.intrinsic+json": {
              "type": "dataframe",
              "variable_name": "df",
              "summary": "{\n  \"name\": \"df\",\n  \"rows\": 100000,\n  \"fields\": [\n    {\n      \"column\": \"jobTitle\",\n      \"properties\": {\n        \"dtype\": \"string\",\n        \"num_unique_values\": 51692,\n        \"samples\": [\n          \"Administration of Justice Faculty\",\n          \"PT Deli Associate - 6100\",\n          \"Cashier - Up to $15.00 / hour, based on experience Hiring ASAP\"\n        ],\n        \"semantic_type\": \"\",\n        \"description\": \"\"\n      }\n    },\n    {\n      \"column\": \"companyName\",\n      \"properties\": {\n        \"dtype\": \"category\",\n        \"num_unique_values\": 25503,\n        \"samples\": [\n          \"Coastal Pipeline, Inc.\",\n          \"Bunzl plc\",\n          \"Autumn Wind Mineola\"\n        ],\n        \"semantic_type\": \"\",\n        \"description\": \"\"\n      }\n    },\n    {\n      \"column\": \"lid\",\n      \"properties\": {\n        \"dtype\": \"string\",\n        \"num_unique_values\": 100000,\n        \"samples\": [\n          \"d82d39818a290a89c7112d47bcce4586\",\n          \"e1a93817153f380e55f34cfa99b69b27\",\n          \"ce8f2e7b5c38ee42391c01675700cdb4\"\n        ],\n        \"semantic_type\": \"\",\n        \"description\": \"\"\n      }\n    },\n    {\n      \"column\": \"jobDescRaw\",\n      \"properties\": {\n        \"dtype\": \"string\",\n        \"num_unique_values\": 90535,\n        \"samples\": [\n          \"<div class=\\\"normalText\\\"><p>21.00 / Hour</p>\\r\\n<p>Career Advancement Opportunities</p>\\r\\n<p>Full-Time</p>\\r\\n<p>Full Benefits</p>\\r\\n<p>The Sushi Chef will be responsible for controlling the work and product produced for Sushi and or other Japanese/Asian cuisines. This requires in-depth knowledge of sushi preparation, proper fish handling and safe sanitation techniques. You will manage preparation, purchasing and receiving, food and labor cost controls and employee supervision and training cooks on proper sushi techniques and preparation.</p>\\r\\n<p>Provide the highest level of customer service quality at all times</p>\\r\\n<p>Ensure compliance of all standards and procedures relating to HACCP and provincial workplace safety standards</p>\\r\\n<p>Meet or exceed Brand established food quality and plating specifications.</p>\\r\\n<p>Support SSP business and objectives</p>\\r\\n<p>Ensure a safe working environment for all associates</p>\\r\\n<p>A thorough understanding of current sushi procedures/business practices is imperative in ensuring continuous improvement in both customer and associate satisfaction.</p>\\r\\n<p>Other duties as assigned.</p>\\r\\n<p>Skills:</p>\\r\\n<p>1+ years of proven experience as sushi chef/cook in high volume operation</p>\\r\\n<p>Indepth knowledge of Japanese/Asian ingredients in sushi preparation, proper fish handling and sanitation principles</p>\\r\\n<p>Excellent knife skills and fish fabrication techniques</p>\\r\\n<p>Demonstrates knowledge of product, service, quality, equipment and operations standards.</p>\\r\\n<p>Demonstrates an understanding of operating a food and beverage business</p>\\r\\n<p>Food handlers permit as required by law</p>\\r\\n<p>Understand that the customer is our #1 priority</p>\\r\\n<p>Use sound business judgment to increase sales and operating profits</p>\\r\\n<p>Effective organizational and planning skills</p>\\r\\n<p>Ability to work under pressure in a fast paced environment</p>\\r\\n<p>Ability to recruit, hire, train and develop management associates</p>\\r\\n<p>Effective interpersonal skills</p>\\r\\n<p>Ability to be proactive and self-directed</p>\\r\\n<p>Diversity and Inclusion is a priority at SSP. We are an equal opportunities employer committed to engaging all of our people, so they feel valued and motivated; we champion diversity, promote inclusion, and ensure equality. We respect and protect human rights and prevent discrimination; and we positively impact our communities. We encourage and welcome applications from a diverse range of candidates regardless of background, gender, race, religious beliefs, disability, sexual identity and orientation.</p>\\r\\n<p style=\\\"height:6px;\\\"></p>\\r\\n<p>Required</p>\\r\\n<p style=\\\"height:6px;\\\"></p>\\r\\n<p>Preferred</p>\\r\\n<p style=\\\"height:6px;\\\"></p>\\r\\n<p>Job Industries</p>\\r\\n<p style=\\\"height:6px;\\\"></p>\\r\\n<p>Other</p>\\r\\n<p style=\\\"height:6px;\\\"></p>\\r\\n<p>Full Time</p></div>\",\n          \"<div class=\\\"normalText\\\"><p>NurseStat is looking for a Long Term (Travel) Med - Surg RN in Fort Wayne, IN . This is a 13 week assignment scheduled to start on 01/20/2025 and run through 04/21/2025 . You must be licensed in the state of IN.</p>\\r\\n<p>The position does accept Compact licenses.</p>\\r\\n<p>Estimated weekly pay includes projected hourly wages and weekly meal and lodging per diems for eligible clinicians based on nationally published GSA rates.</p>\\r\\n<p>Actual weekly pay and per diems may differ from the amount shown and are subject to change during an assignment.</p>\\r\\n<p>Benefits for our Travelers include: Top Compensation Packages tailored to meet your needs Medical, Dental, Vision Insurance: Your medical benefits available for only $10/week 401(k) Savings Program with matching Licensure and Credential Reimbursements available Professional Liability / Malpractice Coverage Weekly Pay with Direct Deposit Tax Free Per Diems or Furnished Housing accommodations About AHS Staffing Our motto has always been \\u201cOur business is only as good as the people working for us\\u201d and we are always working to establish 100 % satisfaction with our providers and clients.</p>\\r\\n<p>Our 1 goal is to build long-term relationships and that happens with honesty and integrity.</p>\\r\\n<p>AHS Staffing offers some of the most competitive pay packages in the industry.</p>\\r\\n<p>Come join a team that truly cares about you and your needs.</p>\\r\\n<p>The employee is responsible for providing specialized care for the facility in need.</p>\\r\\n<p>The employee works in collaboration with all clinic members to ensure every patient receives the safest care with the highest quality optimal outcomes.</p>\\r\\n<p>This is a contracted travel position with the possibility of being extended.</p>\\r\\n<p>Know somebody else who may be interested in this position?</p>\\r\\n<p>We offer competitive pay for any Nurse and LPN referrals that we can put to work for us Submit their information here:</p></div>\",\n          \"<div class=\\\"-desktop-no-padding-top\\\" id=\\\"job-description-container\\\">Dashers - Sign Up and Start Earning at DoorDash summary:\\n<br>As a Dasher for DoorDash, you can enjoy flexible working hours and the freedom to deliver in your chosen location, whether it\\u2019s close to home or a new city. The job requires no vehicle inspections or restrictions, allowing you to start earning immediately using your bike, car, or scooter. With a straightforward pay model and the option for same-day payments, you can work towards your short-term and long-term financial goals efficiently.\\n\\n<br><br>Your Time. Your Goals.\\n<br>What is DoorDash\\n<br>Available in over 4,000 cities in the U.S, DoorDash connects local businesses and local drivers (called Dashers) with opportunities to earn, work, and live.\\n<br>As a Dasher , you can be your own boss and enjoy the flexibility of choosing when, where, and how much you earn. All you need is a mode of transportation (bike, car, scooter) and a smartphone to start making money. It\\u2019s that simple. You can even sign up and begin working that same day. With Dasher Direct, you can also get paid the same day!\\n<br>Why Deliver with DoorDash\\n<br>Choose your own hours: \\u00a0When and where you work is totally up to you.\\n<br>Freedom to dash anywhere: \\u00a0Deliver near your home or in a city you're just visiting.\\n<br>Easy to get started:\\u00a0 Don't worry about car inspections or vehicle restrictions. Just sign up and receive everything you need to start earning.\\n<br>Receive deliveries right away:\\u00a0 Once approved, log on to the Dasher app to receive nearby orders immediately.\\n<br>Know how much you'll make: \\u00a0Clear and concise pay model lets you know the minimum amount you will make before accepting any order\\n<br>Don\\u2019t wait for pay:\\u00a0 Get paid the same day you dash, automatically and with no deposit fee - ever.\\n<br>Earn extra money for your goals:\\u00a0 Achieve your short-term goals or long-term dreams by driving or biking with DoorDash.\\n<br>Sign Up Details\\n<br>Requirements\\n<br>18 or older*\\n<br>Any car, scooter, or bicycle (in select cities)\\n<br>Driver's license number\\n<br>Social security number (only in the US)\\n<br>Final Step: consent to a background check\\n<br>How to Sign Up\\n<br>Click \\u201cApply Now\\u201d and complete the sign up\\n<br>Get the app and go\\n<br>* * Prospective Dashers in Arizona, California, Colorado, Delaware, Florida, Georgia, Idaho, Kentucky, Montana, New Jersey, New Mexico, Texas, Utah, and West Virginia must be at least 19 years old\\n\\n<br><br>Keywords:\\n<br>DoorDash, Dasher, delivery driver, flexible hours, remote work, earn money, same day pay, local delivery, transportation, gig economy</div>\"\n        ],\n        \"semantic_type\": \"\",\n        \"description\": \"\"\n      }\n    },\n    {\n      \"column\": \"finalZipcode\",\n      \"properties\": {\n        \"dtype\": \"category\",\n        \"num_unique_values\": 17617,\n        \"samples\": [\n          \"57469\",\n          \"8805\",\n          \"44503\"\n        ],\n        \"semantic_type\": \"\",\n        \"description\": \"\"\n      }\n    },\n    {\n      \"column\": \"finalState\",\n      \"properties\": {\n        \"dtype\": \"category\",\n        \"num_unique_values\": 247,\n        \"samples\": [\n          \"AR\",\n          \"WA,\",\n          \"NS,\"\n        ],\n        \"semantic_type\": \"\",\n        \"description\": \"\"\n      }\n    },\n    {\n      \"column\": \"finalCity\",\n      \"properties\": {\n        \"dtype\": \"category\",\n        \"num_unique_values\": 7071,\n        \"samples\": [\n          \"Spanish Fort\",\n          \"Bemidji\",\n          \"Allison Park\"\n        ],\n        \"semantic_type\": \"\",\n        \"description\": \"\"\n      }\n    },\n    {\n      \"column\": \"companyBranchName\",\n      \"properties\": {\n        \"dtype\": \"string\",\n        \"num_unique_values\": 72133,\n        \"samples\": [\n          \"A Safari Dental, All Children's Dentistry, Sunset Pediatric Dentistry || New Port Richey, FL\",\n          \"Soliant || Crowley, LA, 70526\",\n          \"Millennium Information Services, Inc. || Pine City, MN\"\n        ],\n        \"semantic_type\": \"\",\n        \"description\": \"\"\n      }\n    },\n    {\n      \"column\": \"jobDescUrl\",\n      \"properties\": {\n        \"dtype\": \"string\",\n        \"num_unique_values\": 100000,\n        \"samples\": [\n          \"https://www.simplyhired.com/job/Sc-lJ38ZGtdCp87_99-ROjcPP8YLklRMi-FeC7B8XeQ0gf9zLXgcJQ\",\n          \"https://us.jora.com/job/Registered-Nurse-783ecaa3f06823d55d09d99e572162fa?abstract_type=original&fsv=true&sl=80122&sp=serp&sponsored=false&sq=+&sr=50&tk=YelwomIzPCZeCfZmRV6_-KoK8_fWAKrYz5gvSAdXC&trigger_source=serp\",\n          \"https://www.postjobfree.com/job/vucspi/travel-nurse-rn-labor-and-montclair-nj\"\n        ],\n        \"semantic_type\": \"\",\n        \"description\": \"\"\n      }\n    },\n    {\n      \"column\": \"nlpBenefits\",\n      \"properties\": {\n        \"dtype\": \"category\",\n        \"num_unique_values\": 14875,\n        \"samples\": [\n          \"['Paid Time Off', 'Education Assistance', 'Remote', 'Parental Leave']\",\n          \"['401K', 'Profit Sharing', 'Life Insurance']\",\n          \"['Paid Time Off', 'Life Insurance', 'Paid Training', 'Parental Leave', '401K']\"\n        ],\n        \"semantic_type\": \"\",\n        \"description\": \"\"\n      }\n    },\n    {\n      \"column\": \"nlpSkills\",\n      \"properties\": {\n        \"dtype\": \"string\",\n        \"num_unique_values\": 61465,\n        \"samples\": [\n          \"['Curation', 'Visual Merchandising', 'Data Entry', 'Sales Support', 'Merchandising']\",\n          \"['Licensing', 'Healthcare Services', 'Nursing', 'Travel Nursing', 'Logistics']\",\n          \"['Licensing', 'Emergency Response', 'Diversity And Inclusion', 'Criminal Justice']\"\n        ],\n        \"semantic_type\": \"\",\n        \"description\": \"\"\n      }\n    },\n    {\n      \"column\": \"nlpSoftSkills\",\n      \"properties\": {\n        \"dtype\": \"category\",\n        \"num_unique_values\": 45812,\n        \"samples\": [\n          \"['Teamwork', 'Problem Solving', 'Customer Service', 'Timelines', 'Operations', 'Presentations', 'Cleanliness', 'Management', 'Sales', 'Organizational Skills']\",\n          \"['Equipment Maintenance', 'Collaboration']\",\n          \"['Positivity', 'Presentations', 'Sales']\"\n        ],\n        \"semantic_type\": \"\",\n        \"description\": \"\"\n      }\n    },\n    {\n      \"column\": \"nlpDegreeLevel\",\n      \"properties\": {\n        \"dtype\": \"category\",\n        \"num_unique_values\": 565,\n        \"samples\": [\n          \"['Associates', 'Certificate', 'Bachelors', 'Masters', 'Doctoral']\",\n          \"['Doctoral', 'Bachelors', 'Associates']\",\n          \"['Bachelors', 'High School', 'Associates', 'Certificate']\"\n        ],\n        \"semantic_type\": \"\",\n        \"description\": \"\"\n      }\n    },\n    {\n      \"column\": \"nlpEmployment\",\n      \"properties\": {\n        \"dtype\": \"category\",\n        \"num_unique_values\": 7,\n        \"samples\": [\n          \"Full-time\",\n          \"Contract\",\n          \"Volunteer\"\n        ],\n        \"semantic_type\": \"\",\n        \"description\": \"\"\n      }\n    },\n    {\n      \"column\": \"nlpSeniority\",\n      \"properties\": {\n        \"dtype\": \"category\",\n        \"num_unique_values\": 6,\n        \"samples\": [\n          \"Entry level\",\n          \"Mid-Senior level\",\n          \"Executive\"\n        ],\n        \"semantic_type\": \"\",\n        \"description\": \"\"\n      }\n    },\n    {\n      \"column\": \"correctDate\",\n      \"properties\": {\n        \"dtype\": \"object\",\n        \"num_unique_values\": 21617,\n        \"samples\": [\n          \"2025-01-06 07:09:44\",\n          \"2025-01-06 20:51:11\",\n          \"2025-01-06 10:21:17\"\n        ],\n        \"semantic_type\": \"\",\n        \"description\": \"\"\n      }\n    },\n    {\n      \"column\": \"scrapedLocation\",\n      \"properties\": {\n        \"dtype\": \"category\",\n        \"num_unique_values\": 22576,\n        \"samples\": [\n          \"Travis AFB, CA\",\n          \"Lisle, IL, 60532\",\n          \"Indianapolis, IN, 46225\"\n        ],\n        \"semantic_type\": \"\",\n        \"description\": \"\"\n      }\n    }\n  ]\n}"
            }
          },
          "metadata": {},
          "execution_count": 4
        }
      ]
    },
    {
      "cell_type": "code",
      "source": [
        "#  Step 3: Check Data Info\n",
        "df.info()"
      ],
      "metadata": {
        "colab": {
          "base_uri": "https://localhost:8080/"
        },
        "id": "qlhTccWybHoU",
        "outputId": "3dae7fb9-44db-46bd-ee74-3706b80c65aa"
      },
      "execution_count": 5,
      "outputs": [
        {
          "output_type": "stream",
          "name": "stdout",
          "text": [
            "<class 'pandas.core.frame.DataFrame'>\n",
            "RangeIndex: 100000 entries, 0 to 99999\n",
            "Data columns (total 17 columns):\n",
            " #   Column             Non-Null Count   Dtype \n",
            "---  ------             --------------   ----- \n",
            " 0   jobTitle           100000 non-null  object\n",
            " 1   companyName        99675 non-null   object\n",
            " 2   lid                100000 non-null  object\n",
            " 3   jobDescRaw         100000 non-null  object\n",
            " 4   finalZipcode       97949 non-null   object\n",
            " 5   finalState         98580 non-null   object\n",
            " 6   finalCity          98205 non-null   object\n",
            " 7   companyBranchName  99675 non-null   object\n",
            " 8   jobDescUrl         100000 non-null  object\n",
            " 9   nlpBenefits        100000 non-null  object\n",
            " 10  nlpSkills          100000 non-null  object\n",
            " 11  nlpSoftSkills      100000 non-null  object\n",
            " 12  nlpDegreeLevel     100000 non-null  object\n",
            " 13  nlpEmployment      100000 non-null  object\n",
            " 14  nlpSeniority       100000 non-null  object\n",
            " 15  correctDate        99986 non-null   object\n",
            " 16  scrapedLocation    100000 non-null  object\n",
            "dtypes: object(17)\n",
            "memory usage: 13.0+ MB\n"
          ]
        }
      ]
    },
    {
      "cell_type": "code",
      "source": [
        "#  Step 4: Check Missing Values\n",
        "print(\"\\n Missing values per column:\")\n",
        "print(df.isnull().sum())"
      ],
      "metadata": {
        "colab": {
          "base_uri": "https://localhost:8080/"
        },
        "id": "p5FuWuJEbJRJ",
        "outputId": "d36e4d94-206b-4faf-b3f6-31a1044003e0"
      },
      "execution_count": 6,
      "outputs": [
        {
          "output_type": "stream",
          "name": "stdout",
          "text": [
            "\n",
            " Missing values per column:\n",
            "jobTitle                0\n",
            "companyName           325\n",
            "lid                     0\n",
            "jobDescRaw              0\n",
            "finalZipcode         2051\n",
            "finalState           1420\n",
            "finalCity            1795\n",
            "companyBranchName     325\n",
            "jobDescUrl              0\n",
            "nlpBenefits             0\n",
            "nlpSkills               0\n",
            "nlpSoftSkills           0\n",
            "nlpDegreeLevel          0\n",
            "nlpEmployment           0\n",
            "nlpSeniority            0\n",
            "correctDate            14\n",
            "scrapedLocation         0\n",
            "dtype: int64\n"
          ]
        }
      ]
    },
    {
      "cell_type": "code",
      "source": [
        "#  Step 5: Check for Duplicates\n",
        "duplicates = df.duplicated().sum()\n",
        "print(f\"\\n Duplicate rows: {duplicates}\")"
      ],
      "metadata": {
        "colab": {
          "base_uri": "https://localhost:8080/"
        },
        "id": "D14973dObQgb",
        "outputId": "cb91efca-04da-4471-8503-ce6cc750f134"
      },
      "execution_count": 7,
      "outputs": [
        {
          "output_type": "stream",
          "name": "stdout",
          "text": [
            "\n",
            " Duplicate rows: 0\n"
          ]
        }
      ]
    },
    {
      "cell_type": "code",
      "source": [
        "#  Step 6: Top Job Titles\n",
        "df['jobTitle'] = df['jobTitle'].astype(str).str.strip().str.lower()\n",
        "top_titles = df['jobTitle'].value_counts().head(10)\n",
        "print(\"\\n Top 10 job titles:\")\n",
        "print(top_titles)\n",
        "top_titles.plot(kind='barh', figsize=(8, 5), title='Top 10 Job Titles')\n",
        "plt.xlabel(\"Frequency\")\n",
        "plt.gca().invert_yaxis()\n",
        "plt.tight_layout()\n",
        "plt.show()"
      ],
      "metadata": {
        "colab": {
          "base_uri": "https://localhost:8080/",
          "height": 750
        },
        "id": "DUZEEjqKbYXD",
        "outputId": "b8a84b1a-cccc-4b2e-fa66-3e99d5369b93"
      },
      "execution_count": 9,
      "outputs": [
        {
          "output_type": "stream",
          "name": "stdout",
          "text": [
            "\n",
            " Top 10 job titles:\n",
            "jobTitle\n",
            "delivery driver                                736\n",
            "delivery driver - no experience needed         651\n",
            "drive with doordash                            645\n",
            "licensed psychologist                          622\n",
            "delivery driver - earn extra cash              609\n",
            "delivery driver - sign up and start earning    603\n",
            "travel nurse rn - med surg - per week          500\n",
            "physical therapist                             492\n",
            "physician family practice                      471\n",
            "restaurant delivery                            455\n",
            "Name: count, dtype: int64\n"
          ]
        },
        {
          "output_type": "display_data",
          "data": {
            "text/plain": [
              "<Figure size 800x500 with 1 Axes>"
            ],
            "image/png": "[encoded data removed]"
          },
          "metadata": {}
        }
      ]
    },
    {
      "cell_type": "code",
      "source": [
        "#  Step 7: Description Length\n",
        "if 'jobDescRaw' in df.columns:\n",
        "    df['jobDescRaw'] = df['jobDescRaw'].astype(str)\n",
        "    df['desc_length'] = df['jobDescRaw'].apply(len)\n",
        "    print(\"\\n Job description length stats:\")\n",
        "    print(df['desc_length'].describe())\n",
        "\n",
        "    plt.hist(df['desc_length'], bins=40, color='skyblue', edgecolor='black')\n",
        "    plt.title(\"Distribution of Job Description Length\")\n",
        "    plt.xlabel(\"Character Count\")\n",
        "    plt.ylabel(\"Frequency\")\n",
        "    plt.tight_layout()\n",
        "    plt.show()"
      ],
      "metadata": {
        "colab": {
          "base_uri": "https://localhost:8080/",
          "height": 678
        },
        "id": "WjiehkGzbZ8X",
        "outputId": "f91fc937-7c86-457e-8fb2-3c96c5f06326"
      },
      "execution_count": 10,
      "outputs": [
        {
          "output_type": "stream",
          "name": "stdout",
          "text": [
            "\n",
            " Job description length stats:\n",
            "count    100000.000000\n",
            "mean       3894.747850\n",
            "std        2321.626015\n",
            "min           9.000000\n",
            "25%        2288.000000\n",
            "50%        3350.000000\n",
            "75%        5140.000000\n",
            "max       35528.000000\n",
            "Name: desc_length, dtype: float64\n"
          ]
        },
        {
          "output_type": "display_data",
          "data": {
            "text/plain": [
              "<Figure size 640x480 with 1 Axes>"
            ],
            "image/png": "[encoded data removed]"
          },
          "metadata": {}
        }
      ]
    },
    {
      "cell_type": "code",
      "source": [
        "\n",
        "#  Step 8: Observations\n",
        "from IPython.display import Markdown as md\n",
        "\n",
        "observations = '''\n",
        "### 🔍 Summary of Key Findings:\n",
        "\n",
        "- The dataset has **{} rows** and **{} columns**\n",
        "- **{} duplicate rows** were found\n",
        "- The most common job title is **{}**\n",
        "- Description lengths range from **{}** to **{}** characters\n",
        "- Job titles are **not standardized**, affecting duplicate detection\n",
        "'''.format(\n",
        "    df.shape[0],\n",
        "    df.shape[1],\n",
        "    duplicates,\n",
        "    top_titles.index[0],\n",
        "    int(df['desc_length'].min()) if 'desc_length' in df else 'N/A',\n",
        "    int(df['desc_length'].max()) if 'desc_length' in df else 'N/A'\n",
        ")\n",
        "\n",
        "md(observations)\n"
      ],
      "metadata": {
        "colab": {
          "base_uri": "https://localhost:8080/",
          "height": 152
        },
        "id": "qXu_u5XDasVs",
        "outputId": "c840619c-b0ae-4ac3-e690-1aabc9aeff88"
      },
      "execution_count": 14,
      "outputs": [
        {
          "output_type": "execute_result",
          "data": {
            "text/plain": [
              "<IPython.core.display.Markdown object>"
            ],
            "text/markdown": "\n### 🔍 Summary of Key Findings:\n\n- The dataset has **100000 rows** and **18 columns**\n- **0 duplicate rows** were found\n- The most common job title is **delivery driver**\n- Description lengths range from **9** to **35528** characters\n- Job titles are **not standardized**, affecting duplicate detection\n"
          },
          "metadata": {},
          "execution_count": 14
        }
      ]
    }
  ]
}